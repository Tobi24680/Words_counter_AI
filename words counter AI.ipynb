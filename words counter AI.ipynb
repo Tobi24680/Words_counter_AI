{
 "cells": [
  {
   "cell_type": "markdown",
   "id": "73130aaf-f184-4d64-a76a-7b82880e8474",
   "metadata": {},
   "source": [
    "### PARAGRAPH WORDS COUNT"
   ]
  },
  {
   "cell_type": "code",
   "execution_count": 9,
   "id": "0877902b-3496-48e7-a5aa-d782970bb632",
   "metadata": {},
   "outputs": [
    {
     "name": "stderr",
     "output_type": "stream",
     "text": [
      "[nltk_data] Downloading package punkt_tab to\n",
      "[nltk_data]     C:\\Users\\MKS\\AppData\\Roaming\\nltk_data...\n",
      "[nltk_data]   Package punkt_tab is already up-to-date!\n"
     ]
    },
    {
     "name": "stdin",
     "output_type": "stream",
     "text": [
      "Enter A Paragraph:\n",
      " A computer is an electronic device that processes data according to a set of instructions known as programs. It is capable of performing a wide range of tasks, from simple calculations to complex simulations, by manipulating binary data through its hardware components, such as the central processing unit CPU, memory, and storage systems. Computers can be categorized into various types, including personal computers, laptops, servers, and supercomputers, each designed to meet specific user needs and performance requirements. The evolution of computers has significantly transformed various fields, including business, education, and entertainment, enabling users to access vast amounts of information and perform intricate operations with remarkable speed and efficiency.\n"
     ]
    },
    {
     "name": "stdout",
     "output_type": "stream",
     "text": [
      "the total no of paragraph is : 108\n",
      " 'A' No of occurences is = 1\n",
      " 'computer' No of occurences is = 1\n",
      " 'is' No of occurences is = 2\n",
      " 'an' No of occurences is = 1\n",
      " 'electronic' No of occurences is = 1\n",
      " 'device' No of occurences is = 1\n",
      " 'that' No of occurences is = 1\n",
      " 'processes' No of occurences is = 1\n",
      " 'data' No of occurences is = 2\n",
      " 'according' No of occurences is = 1\n",
      " 'to' No of occurences is = 4\n",
      " 'a' No of occurences is = 2\n",
      " 'set' No of occurences is = 1\n",
      " 'of' No of occurences is = 5\n",
      " 'instructions' No of occurences is = 1\n",
      " 'known' No of occurences is = 1\n",
      " 'as' No of occurences is = 2\n",
      " 'programs' No of occurences is = 1\n",
      " 'It' No of occurences is = 1\n",
      " 'capable' No of occurences is = 1\n",
      " 'performing' No of occurences is = 1\n",
      " 'wide' No of occurences is = 1\n",
      " 'range' No of occurences is = 1\n",
      " 'tasks' No of occurences is = 1\n",
      " 'from' No of occurences is = 1\n",
      " 'simple' No of occurences is = 1\n",
      " 'calculations' No of occurences is = 1\n",
      " 'complex' No of occurences is = 1\n",
      " 'simulations' No of occurences is = 1\n",
      " 'by' No of occurences is = 1\n",
      " 'manipulating' No of occurences is = 1\n",
      " 'binary' No of occurences is = 1\n",
      " 'through' No of occurences is = 1\n",
      " 'its' No of occurences is = 1\n",
      " 'hardware' No of occurences is = 1\n",
      " 'components' No of occurences is = 1\n",
      " 'such' No of occurences is = 1\n",
      " 'the' No of occurences is = 1\n",
      " 'central' No of occurences is = 1\n",
      " 'processing' No of occurences is = 1\n",
      " 'unit' No of occurences is = 1\n",
      " 'CPU' No of occurences is = 1\n",
      " 'memory' No of occurences is = 1\n",
      " 'and' No of occurences is = 6\n",
      " 'storage' No of occurences is = 1\n",
      " 'systems' No of occurences is = 1\n",
      " 'Computers' No of occurences is = 1\n",
      " 'can' No of occurences is = 1\n",
      " 'be' No of occurences is = 1\n",
      " 'categorized' No of occurences is = 1\n",
      " 'into' No of occurences is = 1\n",
      " 'various' No of occurences is = 2\n",
      " 'types' No of occurences is = 1\n",
      " 'including' No of occurences is = 2\n",
      " 'personal' No of occurences is = 1\n",
      " 'computers' No of occurences is = 2\n",
      " 'laptops' No of occurences is = 1\n",
      " 'servers' No of occurences is = 1\n",
      " 'supercomputers' No of occurences is = 1\n",
      " 'each' No of occurences is = 1\n",
      " 'designed' No of occurences is = 1\n",
      " 'meet' No of occurences is = 1\n",
      " 'specific' No of occurences is = 1\n",
      " 'user' No of occurences is = 1\n",
      " 'needs' No of occurences is = 1\n",
      " 'performance' No of occurences is = 1\n",
      " 'requirements' No of occurences is = 1\n",
      " 'The' No of occurences is = 1\n",
      " 'evolution' No of occurences is = 1\n",
      " 'has' No of occurences is = 1\n",
      " 'significantly' No of occurences is = 1\n",
      " 'transformed' No of occurences is = 1\n",
      " 'fields' No of occurences is = 1\n",
      " 'business' No of occurences is = 1\n",
      " 'education' No of occurences is = 1\n",
      " 'entertainment' No of occurences is = 1\n",
      " 'enabling' No of occurences is = 1\n",
      " 'users' No of occurences is = 1\n",
      " 'access' No of occurences is = 1\n",
      " 'vast' No of occurences is = 1\n",
      " 'amounts' No of occurences is = 1\n",
      " 'information' No of occurences is = 1\n",
      " 'perform' No of occurences is = 1\n",
      " 'intricate' No of occurences is = 1\n",
      " 'operations' No of occurences is = 1\n",
      " 'with' No of occurences is = 1\n",
      " 'remarkable' No of occurences is = 1\n",
      " 'speed' No of occurences is = 1\n",
      " 'efficiency' No of occurences is = 1\n"
     ]
    }
   ],
   "source": [
    "import nltk\n",
    "from nltk.tokenize import word_tokenize\n",
    "nltk.download('punkt_tab')\n",
    "\n",
    "para=input('Enter A Paragraph:\\n')\n",
    "list_1=word_tokenize(para)\n",
    "list_2=[i for i in list_1 if i not in {',','.',';',':','!','?'}]\n",
    "print(\"the total no of paragraph is :\",len(list_2))\n",
    "\n",
    "set_1=set()\n",
    "for i in list_2:\n",
    "    if i not in set_1:\n",
    "        list_3=list_2.count(i)\n",
    "        print(f\" \\'{i}\\' No of occurences is = {list_3}\")\n",
    "        set_1.add(i)"
   ]
  }
 ],
 "metadata": {
  "kernelspec": {
   "display_name": "Python 3 (ipykernel)",
   "language": "python",
   "name": "python3"
  },
  "language_info": {
   "codemirror_mode": {
    "name": "ipython",
    "version": 3
   },
   "file_extension": ".py",
   "mimetype": "text/x-python",
   "name": "python",
   "nbconvert_exporter": "python",
   "pygments_lexer": "ipython3",
   "version": "3.12.4"
  }
 },
 "nbformat": 4,
 "nbformat_minor": 5
}
